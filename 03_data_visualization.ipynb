{
 "cells": [
  {
   "cell_type": "markdown",
   "metadata": {},
   "source": [
    "# Youtube titles analysis 🎥\n",
    "The purpose of this project is to analyze popular youtuber's titles and to find patterns that might be considered as guidelines for writing good titles. Database with around 3K titles scraped from around 20 successful youtubers that have at least +120K subscribers. Most channels have commentary/tech/programming content."
   ]
  },
  {
   "cell_type": "markdown",
   "metadata": {},
   "source": [
    "## Install and import necessary libraries\n",
    "\n",
    "### Seaborn \n",
    "Seaborn is a library for making statistical graphics in Python. It builds on top of matplotlib and integrates closely with pandas data structures.\n",
    "\n",
    "### Pandas\n",
    "pandas is a fast, powerful, flexible and easy to use open source data analysis and manipulation tool, built on top of the Python programming language.\n",
    "\n",
    "### Matplotlib\n",
    "Matplotlib is a comprehensive library for creating static, animated, and interactive visualizations in Python. Matplotlib makes easy things easy and hard things possible.\n",
    "\n",
    "### nltk \n",
    "NLTK, or the Natural Language Toolkit, is a popular Python library used in natural language processing (NLP). It's a powerful tool for human language data analysis, providing easy-to-use interfaces and a suite of text processing libraries for classification, tokenization, stemming, tagging, parsing, and semantic reasoning."
   ]
  },
  {
   "cell_type": "code",
   "execution_count": null,
   "metadata": {
    "scrolled": true
   },
   "outputs": [],
   "source": [
    "%pip install seaborn pandas matplotlib nltk"
   ]
  },
  {
   "cell_type": "code",
   "execution_count": null,
   "metadata": {
    "scrolled": true
   },
   "outputs": [],
   "source": [
    "import sys\n",
    "print(sys.executable)"
   ]
  },
  {
   "cell_type": "code",
   "execution_count": null,
   "metadata": {},
   "outputs": [],
   "source": [
    "import seaborn as sns\n",
    "import matplotlib.pyplot as plt\n",
    "import pandas as pd\n",
    "from matplotlib.ticker import FuncFormatter\n",
    "from collections import Counter \n",
    "import nltk\n",
    "import string "
   ]
  },
  {
   "cell_type": "code",
   "execution_count": null,
   "metadata": {},
   "outputs": [],
   "source": [
    "#  set color palette \n",
    "palette = sns.color_palette(\"flare\", as_cmap=True)"
   ]
  },
  {
   "cell_type": "code",
   "execution_count": null,
   "metadata": {
    "scrolled": false
   },
   "outputs": [],
   "source": [
    "# load a dataset\n",
    "data = pd.read_csv(\"data_3.csv\")\n"
   ]
  },
  {
   "cell_type": "code",
   "execution_count": null,
   "metadata": {},
   "outputs": [],
   "source": [
    "# Variable Relations with Total Views\n",
    "\n",
    "plt.figure(figsize=(18,10))\n",
    "ax = sns.scatterplot(data=data, x=\"title_length\", y=\"views\", hue=\"word_count\", size=\"word_count\")\n",
    "# Define a formatter function that returns the number itself\n",
    "def regular_formatter(x, pos):\n",
    "    return f'{int(x)}'\n",
    "\n",
    "# Set the formatter for the y-axis\n",
    "ax.yaxis.set_major_formatter(FuncFormatter(regular_formatter))\n",
    "\n",
    "ax.spines['top'].set_visible(False)\n",
    "ax.spines['right'].set_visible(False)\n",
    "plt.title(\"Totals Views by Number of Characters Used in Title\", fontsize=18)\n",
    "plt.xlabel(\"Character Count\", fontsize=10)\n",
    "plt.ylabel(\"View Count\", fontsize=10)"
   ]
  },
  {
   "cell_type": "code",
   "execution_count": null,
   "metadata": {},
   "outputs": [],
   "source": [
    "# Variable Relations with Total Views\n",
    "\n",
    "cmap = sns.cubehelix_palette(rot=-.2, as_cmap=True)\n",
    "plt.figure(figsize=(20,10))\n",
    "ax = sns.scatterplot(data=data, x=\"flesch_reading_ease\", y=\"views\", hue=\"stopword_count\", size=\"stopword_count\", palette=cmap, sizes=(10, 200))\n",
    "ax.yaxis.set_major_formatter(FuncFormatter(regular_formatter))\n",
    "ax.spines['top'].set_visible(False)\n",
    "ax.spines['right'].set_visible(False)\n",
    "plt.title(\"Total Views by Flesch Reading Ease Score\", fontsize=18)\n",
    "plt.xlabel(\"Flesch Reasing Ease Score\", fontsize=10)\n",
    "plt.ylabel(\"Average View\", fontsize=10)"
   ]
  },
  {
   "cell_type": "code",
   "execution_count": null,
   "metadata": {},
   "outputs": [],
   "source": [
    "# Variable Relations with Total Views\n",
    "\n",
    "plt.figure(figsize=(20,10))\n",
    "ax=sns.scatterplot(data=data, x=data.sentiment_polarity, y=data.views, color=\"#7d5189\", hue=\"has_qmark\")\n",
    "ax.yaxis.set_major_formatter(FuncFormatter(regular_formatter))\n",
    "ax.spines['top'].set_visible(False)\n",
    "ax.spines['right'].set_visible(False)\n",
    "plt.title(\"Total Views by Sentiment Analysis\", fontsize=18)\n",
    "plt.xlabel(\"Sentiment Behind the Title\", fontsize=10)\n",
    "plt.ylabel(\"View Count\", fontsize=10)"
   ]
  },
  {
   "cell_type": "code",
   "execution_count": null,
   "metadata": {},
   "outputs": [],
   "source": [
    "# Do popular videos have question marks?\n",
    "\n",
    "data_qm = data.groupby(\"question_mark_count\").agg({\"views\": \"mean\"}).reset_index()\n",
    "\n",
    "plt.figure(figsize=(20,10))\n",
    "ax = sns.barplot(data=data_qm, x=\"question_mark_count\", y=\"views\", hue=\"question_mark_count\")\n",
    "ax.spines['top'].set_visible(False)\n",
    "ax.spines['right'].set_visible(False)\n",
    "plt.title(\"Do popular videos have question marks?\", fontsize=16)\n",
    "plt.xlabel(\"Contains Question Mark\", fontsize=8)\n",
    "plt.ylabel(\"Average Views\", fontsize=8)\n",
    "plt.xticks([0,1,2],[\"No QM\",\"One QM\",\"Two QMs\"])\n"
   ]
  },
  {
   "cell_type": "code",
   "execution_count": null,
   "metadata": {},
   "outputs": [],
   "source": [
    "# Do popular videos have question marks?\n",
    "\n",
    "data_has_qm = data.groupby(\"has_qmark\").agg({\"views\": \"mean\"}).reset_index()\n",
    "\n",
    "plt.figure(figsize=(20,10))\n",
    "ax = sns.barplot(data=data_has_qm, x=data.has_qmark, y=data.views, hue=data.has_qmark)\n",
    "ax.spines['top'].set_visible(False)\n",
    "ax.spines['right'].set_visible(False)\n",
    "plt.title(\"Do popular videos have question marks?\", fontsize=16)\n",
    "plt.xlabel(\"Contains Question Mark\", fontsize=8)\n",
    "plt.ylabel(\"Average Views\", fontsize=8)\n",
    "plt.xticks([0,1],[\"No QM\",\"Has QM\"])"
   ]
  },
  {
   "cell_type": "code",
   "execution_count": null,
   "metadata": {
    "scrolled": true
   },
   "outputs": [],
   "source": [
    "# Do popular videos have digits?\n",
    "\n",
    "data_digits = data.groupby(\"digit_count\").agg({\"views\": \"mean\"}).reset_index()\n",
    "\n",
    "plt.figure(figsize=(32,8))\n",
    "ax = sns.barplot(data=data_digits, x=data.digit_count, y=data.views, hue=data.digit_count)\n",
    "ax.spines['top'].set_visible(False)\n",
    "ax.spines['right'].set_visible(False)\n",
    "plt.title(\"Do popular videos have digits?\", fontsize=20)\n",
    "plt.xlabel(\"Contains Digits\", fontsize=12)\n",
    "plt.ylabel(\"Average Views\", fontsize=12)"
   ]
  },
  {
   "cell_type": "code",
   "execution_count": null,
   "metadata": {},
   "outputs": [],
   "source": [
    "# Do popular videos have dollar signs?\n",
    "\n",
    "data_has_currency = data.groupby(\"has_currency\").agg({\"views\": \"mean\"}).reset_index()\n",
    "\n",
    "plt.figure(figsize=(20,10))\n",
    "ax = sns.barplot(data=data_has_currency, x=data.has_currency, y=data.views, hue=data.has_currency, palette=\"rocket\")\n",
    "ax.spines['top'].set_visible(False)\n",
    "ax.spines['right'].set_visible(False)\n",
    "plt.title(\"Do popular videos have dollar signs?\", fontsize=16)\n",
    "plt.xlabel(\"Contains Dollar Sign\", fontsize=8)\n",
    "plt.ylabel(\"Average Views\", fontsize=8)\n",
    "plt.xticks([0,1],[\"No Dollar Sign\",\"Has Dollar Sign\"])"
   ]
  },
  {
   "cell_type": "code",
   "execution_count": null,
   "metadata": {},
   "outputs": [],
   "source": [
    "# Do popular videos contain digits?\n",
    "\n",
    "data_has_digit = data.groupby(\"has_digit\").agg({\"views\": \"mean\"}).reset_index()\n",
    "\n",
    "plt.figure(figsize=(20,10))\n",
    "ax = sns.barplot(data=data_has_digit, x=data.has_digit, y=data.views, hue=data.has_digit, palette=\"flare\")\n",
    "ax.spines['top'].set_visible(False)\n",
    "ax.spines['right'].set_visible(False)\n",
    "plt.title(\"Do popular videos contain digits?\", fontsize=16)\n",
    "plt.xlabel(\"Contains Digits\", fontsize=8)\n",
    "plt.ylabel(\"Average Views\", fontsize=8)\n",
    "plt.xticks([0,1],[\"No Digits\",\"Has Digits\"])"
   ]
  },
  {
   "cell_type": "code",
   "execution_count": null,
   "metadata": {},
   "outputs": [],
   "source": [
    "# Do popular videos Contain more UpperCase Letter?\n",
    "\n",
    "data_upper = data.groupby(\"uppercase_count\").agg({\"views\": \"mean\"}).reset_index()\n",
    "plt.figure(figsize=(20,10)) \n",
    "ax = sns.barplot(data=data_upper, x=\"uppercase_count\", y=\"views\", hue=\"uppercase_count\")\n",
    "ax.spines['top'].set_visible(False)\n",
    "ax.spines['right'].set_visible(False)\n",
    "plt.title(\"Do popular videos contain Uppercase letters?\", fontsize=16)\n",
    "plt.xlabel(\"Uppercase Letter Count\", fontsize=8)\n",
    "plt.ylabel(\"Average Views\", fontsize=8)"
   ]
  },
  {
   "cell_type": "code",
   "execution_count": null,
   "metadata": {},
   "outputs": [],
   "source": [
    "# What's the percentage of UpperCase Letters in each titles and popularity?\n",
    "\n",
    "cmap = sns.cubehelix_palette(rot=-.2, as_cmap=True)\n",
    "data_upper = data.groupby(\"percentage_uppercase_words\").agg({\"views\": \"mean\"}).reset_index()\n",
    "plt.figure(figsize=(20,10)) \n",
    "ax = sns.barplot(data=data_upper, x=\"percentage_uppercase_words\", y=\"views\", hue=\"percentage_uppercase_words\", palette=cmap)\n",
    "ax.spines['top'].set_visible(False)\n",
    "ax.spines['right'].set_visible(False)\n",
    "plt.title(\"Percentage of uppercase letters in each title and popularity\", fontsize=16)\n",
    "plt.xlabel(\"Uppercase Letter Percentage\", fontsize=8)\n",
    "plt.ylabel(\"Average Views\", fontsize=8)"
   ]
  },
  {
   "cell_type": "code",
   "execution_count": null,
   "metadata": {},
   "outputs": [],
   "source": [
    "# The most common words in the titles\n",
    "\n",
    "nltk.download('stopwords')\n",
    "from nltk.corpus import stopwords\n",
    "\n",
    "stop_words = stopwords.words(\"english\")\n",
    "punctuation = string.punctuation\n",
    "\n",
    "palette = sns.cubehelix_palette(12, start=.5, rot=-.75, reverse=True)\n",
    "text = \" \".join(data['title'])\n",
    "text = text.lower()\n",
    "text = \"\".join(_ for _ in text if _ not in punctuation)\n",
    "text = [t for t in text.split() if t not in stop_words]\n",
    "text = [t for t in text if not t.isdigit()]\n",
    "\n",
    "x = [_[0] for _ in Counter(text).most_common(15)]\n",
    "y = [_[1] for _ in Counter(text).most_common(15)]\n",
    "\n",
    "\n",
    "plt.figure(figsize=(20,10));\n",
    "ax = sns.barplot(x=y, y=x, palette=palette, hue=y, legend=False)\n",
    "ax.spines['top'].set_visible(False)\n",
    "ax.spines['right'].set_visible(False)\n",
    "plt.title(\"Most Frequent Keywords used in Video Titles\");\n",
    "plt.xlabel(\"Frequency\", fontsize=14);\n",
    "plt.yticks(fontsize=14);\n",
    "plt.xticks(fontsize=14);"
   ]
  },
  {
   "cell_type": "code",
   "execution_count": null,
   "metadata": {},
   "outputs": [],
   "source": [
    "# Keywords that get highest views \n",
    "\n",
    "top100 = Counter(text).most_common(100)\n",
    "\n",
    "for t in top100:\n",
    "    t = t[0]\n",
    "    data[t] = data['title'].apply(lambda x : 1 if t.lower() in x.lower() else 0)\n",
    "    \n",
    "views_by_words = {}\n",
    "for t in top100:\n",
    "    t = t[0]\n",
    "    doc = data.groupby(t).agg({\"views\" : \"mean\"}).to_dict()['views']\n",
    "    if 1 in doc:\n",
    "        views_by_words[t] = doc[1]\n",
    "        \n",
    "views_by_words = {k: v for k, v in sorted(views_by_words.items(), key=lambda item: item[1])}\n",
    "x = [_ for _ in list(views_by_words.keys())][::-1]\n",
    "y = [_ for _ in list(views_by_words.values())][::-1]\n",
    "palette = sns.cubehelix_palette(n_colors=20, start=.5, rot=-.75, reverse=False)\n",
    "\n",
    "plt.figure(figsize=(20,10));\n",
    "ax = sns.barplot(x=y[:20], y=x[:20], palette=palette)\n",
    "ax.spines['top'].set_visible(False)\n",
    "ax.spines['right'].set_visible(False)\n",
    "plt.title(\"Keywords linked with higher number of views\");\n",
    "plt.xlabel(\"Average Views\", fontsize=14);\n",
    "plt.yticks(fontsize=14);\n",
    "plt.xticks(fontsize=14);\n",
    "plt.ticklabel_format(style='plain', axis='x',useOffset=False)"
   ]
  },
  {
   "cell_type": "code",
   "execution_count": null,
   "metadata": {},
   "outputs": [],
   "source": []
  }
 ],
 "metadata": {
  "kernelspec": {
   "display_name": "Python 3 (ipykernel)",
   "language": "python",
   "name": "python3"
  },
  "language_info": {
   "codemirror_mode": {
    "name": "ipython",
    "version": 3
   },
   "file_extension": ".py",
   "mimetype": "text/x-python",
   "name": "python",
   "nbconvert_exporter": "python",
   "pygments_lexer": "ipython3",
   "version": "3.9.17"
  }
 },
 "nbformat": 4,
 "nbformat_minor": 2
}
